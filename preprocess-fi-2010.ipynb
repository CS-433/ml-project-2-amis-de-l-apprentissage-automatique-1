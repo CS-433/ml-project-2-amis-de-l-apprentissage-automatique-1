{
 "cells": [
  {
   "cell_type": "code",
   "execution_count": 1,
   "id": "0be822ee",
   "metadata": {
    "_cell_guid": "b1076dfc-b9ad-4769-8c92-a6c4dae69d19",
    "_uuid": "8f2839f25d086af736a60e9eeb907d3b93b6e0e5",
    "execution": {
     "iopub.execute_input": "2024-12-16T13:04:26.505377Z",
     "iopub.status.busy": "2024-12-16T13:04:26.504303Z",
     "iopub.status.idle": "2024-12-16T13:04:26.514416Z",
     "shell.execute_reply": "2024-12-16T13:04:26.513474Z"
    },
    "papermill": {
     "duration": 0.017123,
     "end_time": "2024-12-16T13:04:26.516959",
     "exception": false,
     "start_time": "2024-12-16T13:04:26.499836",
     "status": "completed"
    },
    "tags": []
   },
   "outputs": [],
   "source": [
    "import numpy as np\n",
    "import csv"
   ]
  },
  {
   "cell_type": "code",
   "execution_count": 2,
   "id": "d5d26a2b",
   "metadata": {
    "execution": {
     "iopub.execute_input": "2024-12-16T13:04:26.523446Z",
     "iopub.status.busy": "2024-12-16T13:04:26.523068Z",
     "iopub.status.idle": "2024-12-16T13:04:44.986291Z",
     "shell.execute_reply": "2024-12-16T13:04:44.985083Z"
    },
    "papermill": {
     "duration": 18.46938,
     "end_time": "2024-12-16T13:04:44.988856",
     "exception": false,
     "start_time": "2024-12-16T13:04:26.519476",
     "status": "completed"
    },
    "tags": []
   },
   "outputs": [],
   "source": [
    "train_data = np.loadtxt('../input/fi2010/Train_Dst_NoAuction_ZScore_CF_7.txt')\n",
    "test_data = np.hstack((\n",
    "    np.loadtxt('../input/fi2010/Test_Dst_NoAuction_ZScore_CF_7.txt'),\n",
    "    np.loadtxt('../input/fi2010/Test_Dst_NoAuction_ZScore_CF_8.txt'),\n",
    "    np.loadtxt('../input/fi2010/Test_Dst_NoAuction_ZScore_CF_9.txt'),\n",
    "))"
   ]
  },
  {
   "cell_type": "code",
   "execution_count": 3,
   "id": "db8c9dca",
   "metadata": {
    "execution": {
     "iopub.execute_input": "2024-12-16T13:04:44.994840Z",
     "iopub.status.busy": "2024-12-16T13:04:44.994407Z",
     "iopub.status.idle": "2024-12-16T13:04:45.000070Z",
     "shell.execute_reply": "2024-12-16T13:04:44.998866Z"
    },
    "papermill": {
     "duration": 0.011403,
     "end_time": "2024-12-16T13:04:45.002575",
     "exception": false,
     "start_time": "2024-12-16T13:04:44.991172",
     "status": "completed"
    },
    "tags": []
   },
   "outputs": [],
   "source": [
    "def preprocess(data, features=40, labels=5):\n",
    "    float_part = data[:features, :].T\n",
    "    int_part = data[-labels:, :].T.astype(int) - 1\n",
    "    \n",
    "    return np.hstack((float_part, int_part))"
   ]
  },
  {
   "cell_type": "code",
   "execution_count": 4,
   "id": "c5e32007",
   "metadata": {
    "execution": {
     "iopub.execute_input": "2024-12-16T13:04:45.008716Z",
     "iopub.status.busy": "2024-12-16T13:04:45.008313Z",
     "iopub.status.idle": "2024-12-16T13:04:45.085984Z",
     "shell.execute_reply": "2024-12-16T13:04:45.084641Z"
    },
    "papermill": {
     "duration": 0.083544,
     "end_time": "2024-12-16T13:04:45.088468",
     "exception": false,
     "start_time": "2024-12-16T13:04:45.004924",
     "status": "completed"
    },
    "tags": []
   },
   "outputs": [],
   "source": [
    "train = preprocess(train_data)\n",
    "test = preprocess(test_data)"
   ]
  },
  {
   "cell_type": "code",
   "execution_count": 5,
   "id": "a60f9f07",
   "metadata": {
    "execution": {
     "iopub.execute_input": "2024-12-16T13:04:45.094566Z",
     "iopub.status.busy": "2024-12-16T13:04:45.094172Z",
     "iopub.status.idle": "2024-12-16T13:04:53.976910Z",
     "shell.execute_reply": "2024-12-16T13:04:53.975873Z"
    },
    "papermill": {
     "duration": 8.888972,
     "end_time": "2024-12-16T13:04:53.979847",
     "exception": false,
     "start_time": "2024-12-16T13:04:45.090875",
     "status": "completed"
    },
    "tags": []
   },
   "outputs": [],
   "source": [
    "with open(\"train.csv\", 'w', newline='') as f:\n",
    "    writer = csv.writer(f)\n",
    "    writer.writerows(train)"
   ]
  },
  {
   "cell_type": "code",
   "execution_count": 6,
   "id": "7c8633e6",
   "metadata": {
    "execution": {
     "iopub.execute_input": "2024-12-16T13:04:53.986119Z",
     "iopub.status.busy": "2024-12-16T13:04:53.985755Z",
     "iopub.status.idle": "2024-12-16T13:04:58.909370Z",
     "shell.execute_reply": "2024-12-16T13:04:58.908413Z"
    },
    "papermill": {
     "duration": 4.929681,
     "end_time": "2024-12-16T13:04:58.911917",
     "exception": false,
     "start_time": "2024-12-16T13:04:53.982236",
     "status": "completed"
    },
    "tags": []
   },
   "outputs": [],
   "source": [
    "with open(\"test.csv\", 'w', newline='') as f:\n",
    "    writer = csv.writer(f)\n",
    "    writer.writerows(test)"
   ]
  }
 ],
 "metadata": {
  "kaggle": {
   "accelerator": "none",
   "dataSources": [
    {
     "datasetId": 5141085,
     "sourceId": 8594107,
     "sourceType": "datasetVersion"
    }
   ],
   "dockerImageVersionId": 30804,
   "isGpuEnabled": false,
   "isInternetEnabled": true,
   "language": "python",
   "sourceType": "notebook"
  },
  "kernelspec": {
   "display_name": "Python 3",
   "language": "python",
   "name": "python3"
  },
  "language_info": {
   "codemirror_mode": {
    "name": "ipython",
    "version": 3
   },
   "file_extension": ".py",
   "mimetype": "text/x-python",
   "name": "python",
   "nbconvert_exporter": "python",
   "pygments_lexer": "ipython3",
   "version": "3.10.14"
  },
  "papermill": {
   "default_parameters": {},
   "duration": 35.590586,
   "end_time": "2024-12-16T13:04:59.335655",
   "environment_variables": {},
   "exception": null,
   "input_path": "__notebook__.ipynb",
   "output_path": "__notebook__.ipynb",
   "parameters": {},
   "start_time": "2024-12-16T13:04:23.745069",
   "version": "2.6.0"
  }
 },
 "nbformat": 4,
 "nbformat_minor": 5
}
