{
 "cells": [
  {
   "cell_type": "code",
   "execution_count": 1,
   "id": "57472b9f",
   "metadata": {
    "_cell_guid": "b1076dfc-b9ad-4769-8c92-a6c4dae69d19",
    "_uuid": "8f2839f25d086af736a60e9eeb907d3b93b6e0e5",
    "execution": {
     "iopub.execute_input": "2024-12-19T13:07:04.703322Z",
     "iopub.status.busy": "2024-12-19T13:07:04.703123Z",
     "iopub.status.idle": "2024-12-19T13:07:09.389002Z",
     "shell.execute_reply": "2024-12-19T13:07:09.388315Z"
    },
    "papermill": {
     "duration": 4.693549,
     "end_time": "2024-12-19T13:07:09.390498",
     "exception": false,
     "start_time": "2024-12-19T13:07:04.696949",
     "status": "completed"
    },
    "tags": []
   },
   "outputs": [],
   "source": [
    "import matplotlib.pyplot as plt\n",
    "import numpy as np\n",
    "import seaborn as sns\n",
    "import torch\n",
    "import torch.nn as nn\n",
    "import torch.nn.functional as F\n",
    "from sklearn.metrics import precision_recall_fscore_support, confusion_matrix\n",
    "from torch.utils.data import Dataset, DataLoader, Subset"
   ]
  },
  {
   "cell_type": "code",
   "execution_count": 2,
   "id": "9cb8ccaf",
   "metadata": {
    "execution": {
     "iopub.execute_input": "2024-12-19T13:07:09.401676Z",
     "iopub.status.busy": "2024-12-19T13:07:09.401318Z",
     "iopub.status.idle": "2024-12-19T13:07:09.408143Z",
     "shell.execute_reply": "2024-12-19T13:07:09.407586Z"
    },
    "papermill": {
     "duration": 0.013346,
     "end_time": "2024-12-19T13:07:09.409312",
     "exception": false,
     "start_time": "2024-12-19T13:07:09.395966",
     "status": "completed"
    },
    "tags": []
   },
   "outputs": [],
   "source": [
    "def set_seed(seed=7):\n",
    "    np.random.seed(seed)\n",
    "    torch.manual_seed(seed)\n",
    "    torch.cuda.manual_seed_all(seed)\n",
    "    # ensure deterministic behavior on GPU\n",
    "    torch.backends.cudnn.deterministic = True\n",
    "    # allow some optimizations for deterministic behavior\n",
    "    torch.backends.cudnn.benchmark = False\n",
    "\n",
    "set_seed()"
   ]
  },
  {
   "cell_type": "code",
   "execution_count": 3,
   "id": "9bb9bd18",
   "metadata": {
    "execution": {
     "iopub.execute_input": "2024-12-19T13:07:09.420230Z",
     "iopub.status.busy": "2024-12-19T13:07:09.420010Z",
     "iopub.status.idle": "2024-12-19T13:07:09.437171Z",
     "shell.execute_reply": "2024-12-19T13:07:09.436560Z"
    },
    "papermill": {
     "duration": 0.023994,
     "end_time": "2024-12-19T13:07:09.438279",
     "exception": false,
     "start_time": "2024-12-19T13:07:09.414285",
     "status": "completed"
    },
    "tags": []
   },
   "outputs": [],
   "source": [
    "class nconv(nn.Module):\n",
    "    def __init__(self):\n",
    "        super(nconv,self).__init__()\n",
    "\n",
    "    def forward(self, x, A):\n",
    "        # x: (batch, channels, nodes, time), A: (nodes, nodes)\n",
    "        x = torch.einsum('ncwl,vw->ncvl',(x,A))\n",
    "        return x.contiguous()\n",
    "\n",
    "class dy_nconv(nn.Module):\n",
    "    def __init__(self):\n",
    "        super(dy_nconv,self).__init__()\n",
    "\n",
    "    def forward(self,x, A):\n",
    "        # x: (batch, channels, nodes, time), A: (batch, nodes, nodes, time?), here we keep as is from original code\n",
    "        x = torch.einsum('ncvl,nvwl->ncwl',(x,A))\n",
    "        return x.contiguous()\n",
    "\n",
    "class linear(nn.Module):\n",
    "    def __init__(self,c_in,c_out,bias=True):\n",
    "        super(linear,self).__init__()\n",
    "        self.mlp = torch.nn.Conv2d(c_in, c_out, kernel_size=(1, 1), bias=bias)\n",
    "\n",
    "    def forward(self,x):\n",
    "        return self.mlp(x)\n",
    "\n",
    "class mixprop(nn.Module):\n",
    "    def __init__(self,c_in,c_out,gdep,dropout,alpha):\n",
    "        super(mixprop, self).__init__()\n",
    "        self.nconv = nconv()\n",
    "        self.mlp = linear((gdep+1)*c_in,c_out)\n",
    "        self.gdep = gdep\n",
    "        self.dropout = dropout\n",
    "        self.alpha = alpha\n",
    "\n",
    "    def forward(self,x,adj):\n",
    "        adj = adj + torch.eye(adj.size(0)).to(x.device)\n",
    "        d = adj.sum(1)\n",
    "        h = x\n",
    "        out = [h]\n",
    "        a = adj / d.view(-1, 1)\n",
    "        for i in range(self.gdep):\n",
    "            h = self.alpha*x + (1-self.alpha)*self.nconv(h,a)\n",
    "            out.append(h)\n",
    "        ho = torch.cat(out,dim=1)\n",
    "        ho = self.mlp(ho)\n",
    "        return ho\n",
    "\n",
    "class dilated_inception(nn.Module):\n",
    "    def __init__(self, cin, cout, dilation_factor=2):\n",
    "        super(dilated_inception, self).__init__()\n",
    "        self.tconv = nn.ModuleList()\n",
    "        self.kernel_set = [2,3,6,7]\n",
    "        cout = int(cout/len(self.kernel_set))\n",
    "        for kern in self.kernel_set:\n",
    "            self.tconv.append(nn.Conv2d(cin,cout,(1,kern),dilation=(1,dilation_factor)))\n",
    "\n",
    "    def forward(self,input):\n",
    "        x = []\n",
    "        for conv in self.tconv:\n",
    "            x.append(conv(input))\n",
    "        # align last dimension\n",
    "        min_time = min([xx.size(3) for xx in x])\n",
    "        x = [xx[:,:,:, -min_time:] for xx in x]\n",
    "        x = torch.cat(x,dim=1)\n",
    "        return x\n",
    "\n",
    "class graph_constructor(nn.Module):\n",
    "    def __init__(self, nnodes, k, dim, device, alpha=3, static_feat=None):\n",
    "        super(graph_constructor, self).__init__()\n",
    "        self.nnodes = nnodes\n",
    "        if static_feat is not None:\n",
    "            xd = static_feat.shape[1]\n",
    "            self.lin1 = nn.Linear(xd, dim)\n",
    "            self.lin2 = nn.Linear(xd, dim)\n",
    "        else:\n",
    "            self.emb1 = nn.Embedding(nnodes, dim)\n",
    "            self.emb2 = nn.Embedding(nnodes, dim)\n",
    "            self.lin1 = nn.Linear(dim,dim)\n",
    "            self.lin2 = nn.Linear(dim,dim)\n",
    "\n",
    "        self.device = device\n",
    "        self.k = k\n",
    "        self.dim = dim\n",
    "        self.alpha = alpha\n",
    "        self.static_feat = static_feat\n",
    "\n",
    "    def forward(self, idx):\n",
    "        if self.static_feat is None:\n",
    "            nodevec1 = self.emb1(idx)\n",
    "            nodevec2 = self.emb2(idx)\n",
    "        else:\n",
    "            nodevec1 = self.static_feat[idx,:]\n",
    "            nodevec2 = nodevec1\n",
    "\n",
    "        nodevec1 = torch.tanh(self.alpha*self.lin1(nodevec1))\n",
    "        nodevec2 = torch.tanh(self.alpha*self.lin2(nodevec2))\n",
    "\n",
    "        a = torch.mm(nodevec1, nodevec2.transpose(1,0))-torch.mm(nodevec2, nodevec1.transpose(1,0))\n",
    "        adj = F.relu(torch.tanh(self.alpha*a))\n",
    "        mask = torch.zeros(idx.size(0), idx.size(0)).to(self.device)\n",
    "        mask.fill_(0.0)\n",
    "        s1,t1 = (adj + torch.rand_like(adj)*0.01).topk(self.k,1)\n",
    "        mask.scatter_(1,t1,s1.fill_(1))\n",
    "        adj = adj*mask\n",
    "        return adj\n",
    "\n",
    "class LayerNorm(nn.Module):\n",
    "    def __init__(self, normalized_shape, eps=1e-5, elementwise_affine=True):\n",
    "        super(LayerNorm, self).__init__()\n",
    "        if isinstance(normalized_shape, int):\n",
    "            normalized_shape = (normalized_shape,)\n",
    "        self.normalized_shape = tuple(normalized_shape)\n",
    "        self.eps = eps\n",
    "        self.elementwise_affine = elementwise_affine\n",
    "        if self.elementwise_affine:\n",
    "            self.weight = nn.Parameter(torch.Tensor(*normalized_shape))\n",
    "            self.bias = nn.Parameter(torch.Tensor(*normalized_shape))\n",
    "        else:\n",
    "            self.register_parameter('weight', None)\n",
    "            self.register_parameter('bias', None)\n",
    "        self.reset_parameters()\n",
    "\n",
    "    def reset_parameters(self):\n",
    "        if self.elementwise_affine:\n",
    "            nn.init.ones_(self.weight)\n",
    "            nn.init.zeros_(self.bias)\n",
    "\n",
    "    def forward(self, input, idx):\n",
    "        if self.elementwise_affine:\n",
    "            return F.layer_norm(input, input.shape[1:], self.weight[:, idx, :], self.bias[:, idx, :], self.eps)\n",
    "        else:\n",
    "            return F.layer_norm(input, input.shape[1:], None, None, self.eps)"
   ]
  },
  {
   "cell_type": "code",
   "execution_count": 4,
   "id": "9b33caaa",
   "metadata": {
    "execution": {
     "iopub.execute_input": "2024-12-19T13:07:09.448743Z",
     "iopub.status.busy": "2024-12-19T13:07:09.448505Z",
     "iopub.status.idle": "2024-12-19T13:07:09.464334Z",
     "shell.execute_reply": "2024-12-19T13:07:09.463724Z"
    },
    "papermill": {
     "duration": 0.02235,
     "end_time": "2024-12-19T13:07:09.465509",
     "exception": false,
     "start_time": "2024-12-19T13:07:09.443159",
     "status": "completed"
    },
    "tags": []
   },
   "outputs": [],
   "source": [
    "class gtnet(nn.Module):\n",
    "    def __init__(self, gcn_true, buildA_true, gcn_depth, num_nodes, device, predefined_A=None, static_feat=None, \n",
    "                 dropout=0.3, subgraph_size=20, node_dim=40, dilation_exponential=1, conv_channels=32, \n",
    "                 residual_channels=32, skip_channels=64, end_channels=128, seq_length=12, in_dim=1, out_dim=3, \n",
    "                 layers=3, propalpha=0.05, tanhalpha=3, layer_norm_affline=True):\n",
    "        super(gtnet, self).__init__()\n",
    "        self.gcn_true = gcn_true\n",
    "        self.buildA_true = buildA_true\n",
    "        self.num_nodes = num_nodes\n",
    "        self.dropout = dropout\n",
    "        self.predefined_A = predefined_A\n",
    "        self.filter_convs = nn.ModuleList()\n",
    "        self.gate_convs = nn.ModuleList()\n",
    "        self.residual_convs = nn.ModuleList()\n",
    "        self.skip_convs = nn.ModuleList()\n",
    "        self.gconv1 = nn.ModuleList()\n",
    "        self.gconv2 = nn.ModuleList()\n",
    "        self.norm = nn.ModuleList()\n",
    "        self.gc = graph_constructor(num_nodes, subgraph_size, node_dim, device, alpha=tanhalpha, static_feat=static_feat)\n",
    "        self.seq_length = seq_length\n",
    "        kernel_size = 7\n",
    "        if dilation_exponential>1:\n",
    "            self.receptive_field = int(1+(kernel_size-1)(dilation_exponential*layers-1)/(dilation_exponential-1))\n",
    "        else:\n",
    "            self.receptive_field = layers*(kernel_size-1) + 1\n",
    "\n",
    "        self.start_conv = nn.Conv2d(in_channels=in_dim, out_channels=residual_channels, kernel_size=(1, 1))\n",
    "\n",
    "        # building layers\n",
    "        for i in range(1):\n",
    "            if dilation_exponential>1:\n",
    "                rf_size_i = int(1 + i*(kernel_size-1)(dilation_exponential*layers-1)/(dilation_exponential-1))\n",
    "            else:\n",
    "                rf_size_i = i*layers*(kernel_size-1)+1\n",
    "            new_dilation = 1\n",
    "            for j in range(1,layers+1):\n",
    "                if dilation_exponential > 1:\n",
    "                    rf_size_j = int(rf_size_i + (kernel_size-1)(dilation_exponential*j-1)/(dilation_exponential-1))\n",
    "                else:\n",
    "                    rf_size_j = rf_size_i+j*(kernel_size-1)\n",
    "\n",
    "                self.filter_convs.append(dilated_inception(residual_channels, conv_channels, dilation_factor=new_dilation))\n",
    "                self.gate_convs.append(dilated_inception(residual_channels, conv_channels, dilation_factor=new_dilation))\n",
    "                self.residual_convs.append(nn.Conv2d(in_channels=conv_channels,\n",
    "                                                     out_channels=residual_channels,\n",
    "                                                     kernel_size=(1, 1)))\n",
    "                if self.seq_length>self.receptive_field:\n",
    "                    self.skip_convs.append(nn.Conv2d(in_channels=conv_channels,\n",
    "                                                     out_channels=skip_channels,\n",
    "                                                     kernel_size=(1, self.seq_length-rf_size_j+1)))\n",
    "                else:\n",
    "                    self.skip_convs.append(nn.Conv2d(in_channels=conv_channels,\n",
    "                                                     out_channels=skip_channels,\n",
    "                                                     kernel_size=(1, self.receptive_field-rf_size_j+1)))\n",
    "                if self.gcn_true:\n",
    "                    self.gconv1.append(mixprop(conv_channels, residual_channels, gcn_depth, dropout, propalpha))\n",
    "                    self.gconv2.append(mixprop(conv_channels, residual_channels, gcn_depth, dropout, propalpha))\n",
    "\n",
    "                if self.seq_length>self.receptive_field:\n",
    "                    self.norm.append(LayerNorm((residual_channels, num_nodes, self.seq_length - rf_size_j + 1),\n",
    "                                               elementwise_affine=layer_norm_affline))\n",
    "                else:\n",
    "                    self.norm.append(LayerNorm((residual_channels, num_nodes, self.receptive_field - rf_size_j + 1),\n",
    "                                               elementwise_affine=layer_norm_affline))\n",
    "\n",
    "                new_dilation *= dilation_exponential\n",
    "\n",
    "        self.layers = layers\n",
    "\n",
    "        # skip0, skipE for last skip connections\n",
    "        if self.seq_length > self.receptive_field:\n",
    "            self.skip0 = nn.Conv2d(in_channels=in_dim, out_channels=skip_channels, kernel_size=(1, self.seq_length), bias=True)\n",
    "            self.skipE = nn.Conv2d(in_channels=residual_channels, out_channels=skip_channels,\n",
    "                                   kernel_size=(1, self.seq_length - self.receptive_field + 1), bias=True)\n",
    "        else:\n",
    "            self.skip0 = nn.Conv2d(in_channels=in_dim, out_channels=skip_channels, kernel_size=(1, self.receptive_field), bias=True)\n",
    "            self.skipE = nn.Conv2d(in_channels=residual_channels, out_channels=skip_channels, kernel_size=(1,1), bias=True)\n",
    "\n",
    "        # final layers for classification: we now output out_dim classes\n",
    "        self.end_conv_1 = nn.Conv2d(in_channels=skip_channels,\n",
    "                                    out_channels=end_channels,\n",
    "                                    kernel_size=(1,1),\n",
    "                                    bias=True)\n",
    "        self.end_conv_2 = nn.Conv2d(in_channels=end_channels,\n",
    "                                    out_channels=out_dim,\n",
    "                                    kernel_size=(1,1),\n",
    "                                    bias=True)\n",
    "\n",
    "        self.idx = torch.arange(self.num_nodes).to(device)\n",
    "\n",
    "    def forward(self, input, idx=None):\n",
    "        # input: (batch, in_dim, nodes, seq_length)\n",
    "        seq_len = input.size(3)\n",
    "        assert seq_len==self.seq_length, 'Input sequence length not equal to preset sequence length'\n",
    "\n",
    "        if self.seq_length<self.receptive_field:\n",
    "            input = nn.functional.pad(input,(self.receptive_field-self.seq_length,0,0,0))\n",
    "\n",
    "        # build adjacency if needed\n",
    "        if self.gcn_true:\n",
    "            if self.buildA_true:\n",
    "                if idx is None:\n",
    "                    adp = self.gc(self.idx)\n",
    "                else:\n",
    "                    adp = self.gc(idx)\n",
    "            else:\n",
    "                adp = self.predefined_A\n",
    "\n",
    "        x = self.start_conv(input)\n",
    "        skip = self.skip0(F.dropout(input, self.dropout, training=self.training))\n",
    "        for i in range(self.layers):\n",
    "            residual = x\n",
    "            filter = self.filter_convs[i](x)\n",
    "            filter = torch.tanh(filter)\n",
    "            gate = self.gate_convs[i](x)\n",
    "            gate = torch.sigmoid(gate)\n",
    "            x = filter * gate\n",
    "            x = F.dropout(x, self.dropout, training=self.training)\n",
    "            s = x\n",
    "            s = self.skip_convs[i](s)\n",
    "            skip = s + skip\n",
    "            if self.gcn_true:\n",
    "                x = self.gconv1[i](x, adp)+self.gconv2[i](x, adp.transpose(1,0))\n",
    "            else:\n",
    "                x = self.residual_convs[i](x)\n",
    "\n",
    "            x = x + residual[:, :, :, -x.size(3):]\n",
    "            if idx is None:\n",
    "                x = self.norm[i](x,self.idx)\n",
    "            else:\n",
    "                x = self.norm[i](x,idx)\n",
    "\n",
    "        skip = self.skipE(x) + skip\n",
    "        x = F.relu(skip)\n",
    "        x = F.relu(self.end_conv_1(x))\n",
    "        x = self.end_conv_2(x)\n",
    "        # x shape now: (batch, out_dim, nodes, T_out=1 or so)\n",
    "\n",
    "        # for classification, we pool over nodes and time to get a single vector per sample\n",
    "        # x: (B, out_dim, N, T). Let's pool:\n",
    "        x = x.mean(dim=[2,3]) # (B, out_dim)\n",
    "        return x"
   ]
  },
  {
   "cell_type": "code",
   "execution_count": 5,
   "id": "6b669a62",
   "metadata": {
    "execution": {
     "iopub.execute_input": "2024-12-19T13:07:09.475899Z",
     "iopub.status.busy": "2024-12-19T13:07:09.475692Z",
     "iopub.status.idle": "2024-12-19T13:07:09.480817Z",
     "shell.execute_reply": "2024-12-19T13:07:09.480197Z"
    },
    "papermill": {
     "duration": 0.011662,
     "end_time": "2024-12-19T13:07:09.482004",
     "exception": false,
     "start_time": "2024-12-19T13:07:09.470342",
     "status": "completed"
    },
    "tags": []
   },
   "outputs": [],
   "source": [
    "class ClassificationDataset(Dataset):\n",
    "    def __init__(self, data, seq_length, num_nodes, in_dim=1, label_col=-1):\n",
    "        self.seq_length = seq_length\n",
    "        self.num_nodes = num_nodes\n",
    "        self.in_dim = in_dim\n",
    "        self.features = data[:, :40]\n",
    "        self.labels = data[:, label_col].astype(int)\n",
    "\n",
    "        self.samples = []\n",
    "        total_features = self.features.shape[1]\n",
    "        assert total_features == self.num_nodes * self.in_dim, 'Check feature count, num_nodes and in_dim'\n",
    "        for i in range(len(self.features)-seq_length):\n",
    "            x_seq = self.features[i:i+seq_length, :]  # shape (seq_length, total_features)\n",
    "            y_label = self.labels[i+seq_length-1] \n",
    "            self.samples.append((x_seq, y_label))\n",
    "\n",
    "    def __len__(self):\n",
    "        return len(self.samples)\n",
    "\n",
    "    def __getitem__(self, idx):\n",
    "        x_seq, y_label = self.samples[idx]\n",
    "        # Reshape to (in_dim, num_nodes, seq_length)\n",
    "        # Currently x_seq: (seq_length, total_features)\n",
    "        # We want: (batch, in_dim, num_nodes, seq_length), \n",
    "        # but here just do (in_dim, num_nodes, seq_length) per sample\n",
    "        x_seq = x_seq.T.reshape(self.in_dim, self.num_nodes, self.seq_length)\n",
    "        x_seq = torch.tensor(x_seq, dtype=torch.float32)\n",
    "        y_label = torch.tensor(y_label, dtype=torch.long)\n",
    "        return x_seq, y_label"
   ]
  },
  {
   "cell_type": "code",
   "execution_count": 6,
   "id": "1102a5bd",
   "metadata": {
    "execution": {
     "iopub.execute_input": "2024-12-19T13:07:09.492449Z",
     "iopub.status.busy": "2024-12-19T13:07:09.492252Z",
     "iopub.status.idle": "2024-12-19T13:07:09.496386Z",
     "shell.execute_reply": "2024-12-19T13:07:09.495639Z"
    },
    "papermill": {
     "duration": 0.01057,
     "end_time": "2024-12-19T13:07:09.497524",
     "exception": false,
     "start_time": "2024-12-19T13:07:09.486954",
     "status": "completed"
    },
    "tags": []
   },
   "outputs": [],
   "source": [
    "def undersample(data, label_col):\n",
    "    label_column = data[:, label_col].astype(int)\n",
    "    unique, counts = np.unique(label_column, return_counts=True)\n",
    "\n",
    "    min_count = counts.min()\n",
    "\n",
    "    keep_indices = []\n",
    "    for label in unique:\n",
    "        label_indices = np.where(label_column == label)[0]\n",
    "        \n",
    "        selected_indices = np.random.choice(label_indices, size=min_count, replace=False)\n",
    "        \n",
    "        keep_indices.extend(sorted(selected_indices))\n",
    "\n",
    "    # sort to keep order\n",
    "    keep_indices = sorted(keep_indices)\n",
    "    return data[keep_indices]"
   ]
  },
  {
   "cell_type": "code",
   "execution_count": 7,
   "id": "d3331e33",
   "metadata": {
    "execution": {
     "iopub.execute_input": "2024-12-19T13:07:09.508058Z",
     "iopub.status.busy": "2024-12-19T13:07:09.507828Z",
     "iopub.status.idle": "2024-12-19T13:07:09.513011Z",
     "shell.execute_reply": "2024-12-19T13:07:09.512231Z"
    },
    "papermill": {
     "duration": 0.011751,
     "end_time": "2024-12-19T13:07:09.514159",
     "exception": false,
     "start_time": "2024-12-19T13:07:09.502408",
     "status": "completed"
    },
    "tags": []
   },
   "outputs": [],
   "source": [
    "def evaluate(model, loader, device):\n",
    "    model.eval()\n",
    "    all_preds = []\n",
    "    all_labels = []\n",
    "\n",
    "    with torch.no_grad():\n",
    "        for X, Y in loader:\n",
    "            X, Y = X.to(device), Y.to(device)\n",
    "            out = model(X) # (batch, num_classes)\n",
    "            pred = out.argmax(dim=1)\n",
    "            all_preds.extend(pred.cpu().numpy())\n",
    "            all_labels.extend(Y.cpu().numpy())\n",
    "    \n",
    "    all_preds = np.array(all_preds)\n",
    "    all_labels = np.array(all_labels)\n",
    "    \n",
    "    precision, recall, f1, support = precision_recall_fscore_support(all_labels, all_preds, average=None)\n",
    "    \n",
    "    conf_matrix = confusion_matrix(all_labels, all_preds)\n",
    "    normalized_conf_matrix = conf_matrix.astype('float') / conf_matrix.sum(axis=1)[:, np.newaxis]\n",
    "    \n",
    "    accuracy = (all_preds == all_labels).sum() / len(all_labels)\n",
    "    \n",
    "    return {\n",
    "        'accuracy': accuracy,\n",
    "        'precision': precision,\n",
    "        'recall': recall,\n",
    "        'f1': f1,\n",
    "        'support': support,\n",
    "        'confusion_matrix': conf_matrix,\n",
    "        'normalized_confusion_matrix': normalized_conf_matrix,\n",
    "    }"
   ]
  },
  {
   "cell_type": "code",
   "execution_count": 8,
   "id": "095c96ca",
   "metadata": {
    "execution": {
     "iopub.execute_input": "2024-12-19T13:07:09.524567Z",
     "iopub.status.busy": "2024-12-19T13:07:09.524348Z",
     "iopub.status.idle": "2024-12-19T13:07:09.590687Z",
     "shell.execute_reply": "2024-12-19T13:07:09.589976Z"
    },
    "papermill": {
     "duration": 0.072966,
     "end_time": "2024-12-19T13:07:09.591982",
     "exception": false,
     "start_time": "2024-12-19T13:07:09.519016",
     "status": "completed"
    },
    "tags": []
   },
   "outputs": [],
   "source": [
    "config = {\n",
    "    'device': 'cuda' if torch.cuda.is_available() else 'cpu',\n",
    "    'train_csv': '/kaggle/input/fi2010-v2/train.csv',\n",
    "    'test_csv': '/kaggle/input/fi2010-v2/test.csv',\n",
    "    'num_nodes': 40,\n",
    "    'seq_length': 10, # modified\n",
    "    'in_dim': 1,\n",
    "    'gcn_true': True,\n",
    "    'buildA_true': True,\n",
    "    'gcn_depth': 2,\n",
    "    'dropout': 0.3,\n",
    "    'subgraph_size': 20,\n",
    "    'node_dim': 40, # modified\n",
    "    'dilation_exponential': 1,\n",
    "    'conv_channels': 32,\n",
    "    'residual_channels': 32,\n",
    "    'skip_channels': 64,\n",
    "    'end_channels': 128,\n",
    "    'out_dim': 3, # modified\n",
    "    'layers': 3,\n",
    "    'propalpha': 0.05,\n",
    "    'tanhalpha': 3,\n",
    "    'batch_size': 32,\n",
    "    'epochs': 15, # modified\n",
    "    'lr': 0.001,\n",
    "    'weight_decay': 0.0001,\n",
    "}"
   ]
  },
  {
   "cell_type": "code",
   "execution_count": 9,
   "id": "52572c18",
   "metadata": {
    "execution": {
     "iopub.execute_input": "2024-12-19T13:07:09.602974Z",
     "iopub.status.busy": "2024-12-19T13:07:09.602723Z",
     "iopub.status.idle": "2024-12-19T13:07:09.605963Z",
     "shell.execute_reply": "2024-12-19T13:07:09.605184Z"
    },
    "papermill": {
     "duration": 0.009972,
     "end_time": "2024-12-19T13:07:09.607134",
     "exception": false,
     "start_time": "2024-12-19T13:07:09.597162",
     "status": "completed"
    },
    "tags": []
   },
   "outputs": [],
   "source": [
    "device = torch.device(config['device'])"
   ]
  },
  {
   "cell_type": "code",
   "execution_count": 10,
   "id": "fa2f147f",
   "metadata": {
    "execution": {
     "iopub.execute_input": "2024-12-19T13:07:09.617492Z",
     "iopub.status.busy": "2024-12-19T13:07:09.617265Z",
     "iopub.status.idle": "2024-12-19T13:07:09.620849Z",
     "shell.execute_reply": "2024-12-19T13:07:09.619943Z"
    },
    "papermill": {
     "duration": 0.010133,
     "end_time": "2024-12-19T13:07:09.622136",
     "exception": false,
     "start_time": "2024-12-19T13:07:09.612003",
     "status": "completed"
    },
    "tags": []
   },
   "outputs": [],
   "source": [
    "label_col = -1"
   ]
  },
  {
   "cell_type": "code",
   "execution_count": 11,
   "id": "f6af246d",
   "metadata": {
    "execution": {
     "iopub.execute_input": "2024-12-19T13:07:09.633330Z",
     "iopub.status.busy": "2024-12-19T13:07:09.633105Z",
     "iopub.status.idle": "2024-12-19T13:07:11.529167Z",
     "shell.execute_reply": "2024-12-19T13:07:11.528210Z"
    },
    "papermill": {
     "duration": 1.903682,
     "end_time": "2024-12-19T13:07:11.531071",
     "exception": false,
     "start_time": "2024-12-19T13:07:09.627389",
     "status": "completed"
    },
    "tags": []
   },
   "outputs": [],
   "source": [
    "train_full = np.loadtxt(config['train_csv'], delimiter=',')\n",
    "# train_ratio = 0.8\n",
    "# train_size = int(len(train_full) * train_ratio)"
   ]
  },
  {
   "cell_type": "code",
   "execution_count": 12,
   "id": "188aa643",
   "metadata": {
    "execution": {
     "iopub.execute_input": "2024-12-19T13:07:11.550109Z",
     "iopub.status.busy": "2024-12-19T13:07:11.549765Z",
     "iopub.status.idle": "2024-12-19T13:07:11.553119Z",
     "shell.execute_reply": "2024-12-19T13:07:11.552372Z"
    },
    "papermill": {
     "duration": 0.013598,
     "end_time": "2024-12-19T13:07:11.554422",
     "exception": false,
     "start_time": "2024-12-19T13:07:11.540824",
     "status": "completed"
    },
    "tags": []
   },
   "outputs": [],
   "source": [
    "# train_data = train_full[:train_size, :]\n",
    "# train_data = undersample(train_data, label_col)\n",
    "# val_data = train_full[train_size:, :]"
   ]
  },
  {
   "cell_type": "code",
   "execution_count": 13,
   "id": "8605fd0a",
   "metadata": {
    "execution": {
     "iopub.execute_input": "2024-12-19T13:07:11.564988Z",
     "iopub.status.busy": "2024-12-19T13:07:11.564697Z",
     "iopub.status.idle": "2024-12-19T13:07:11.783513Z",
     "shell.execute_reply": "2024-12-19T13:07:11.782692Z"
    },
    "papermill": {
     "duration": 0.226052,
     "end_time": "2024-12-19T13:07:11.785427",
     "exception": false,
     "start_time": "2024-12-19T13:07:11.559375",
     "status": "completed"
    },
    "tags": []
   },
   "outputs": [],
   "source": [
    "train_dataset = ClassificationDataset(\n",
    "    train_full, \n",
    "    config['seq_length'], \n",
    "    config['num_nodes'], \n",
    "    config['in_dim'], \n",
    "    label_col, \n",
    ")"
   ]
  },
  {
   "cell_type": "code",
   "execution_count": 14,
   "id": "66322db8",
   "metadata": {
    "execution": {
     "iopub.execute_input": "2024-12-19T13:07:11.802629Z",
     "iopub.status.busy": "2024-12-19T13:07:11.802360Z",
     "iopub.status.idle": "2024-12-19T13:07:11.805410Z",
     "shell.execute_reply": "2024-12-19T13:07:11.804683Z"
    },
    "papermill": {
     "duration": 0.011492,
     "end_time": "2024-12-19T13:07:11.806570",
     "exception": false,
     "start_time": "2024-12-19T13:07:11.795078",
     "status": "completed"
    },
    "tags": []
   },
   "outputs": [],
   "source": [
    "# val_dataset = ClassificationDataset(\n",
    "#     val_data, \n",
    "#     config['seq_length'], \n",
    "#     config['num_nodes'], \n",
    "#     config['in_dim'], \n",
    "#     label_col, \n",
    "# )"
   ]
  },
  {
   "cell_type": "code",
   "execution_count": 15,
   "id": "cdc3ad62",
   "metadata": {
    "execution": {
     "iopub.execute_input": "2024-12-19T13:07:11.817188Z",
     "iopub.status.busy": "2024-12-19T13:07:11.816908Z",
     "iopub.status.idle": "2024-12-19T13:07:11.820297Z",
     "shell.execute_reply": "2024-12-19T13:07:11.819574Z"
    },
    "papermill": {
     "duration": 0.009899,
     "end_time": "2024-12-19T13:07:11.821436",
     "exception": false,
     "start_time": "2024-12-19T13:07:11.811537",
     "status": "completed"
    },
    "tags": []
   },
   "outputs": [],
   "source": [
    "weighting = True"
   ]
  },
  {
   "cell_type": "code",
   "execution_count": 16,
   "id": "caddaad4",
   "metadata": {
    "execution": {
     "iopub.execute_input": "2024-12-19T13:07:11.831991Z",
     "iopub.status.busy": "2024-12-19T13:07:11.831758Z",
     "iopub.status.idle": "2024-12-19T13:07:11.909557Z",
     "shell.execute_reply": "2024-12-19T13:07:11.908736Z"
    },
    "papermill": {
     "duration": 0.084425,
     "end_time": "2024-12-19T13:07:11.910793",
     "exception": false,
     "start_time": "2024-12-19T13:07:11.826368",
     "status": "completed"
    },
    "tags": []
   },
   "outputs": [
    {
     "data": {
      "text/plain": [
       "tensor([0.8207, 1.7177, 0.8338])"
      ]
     },
     "execution_count": 16,
     "metadata": {},
     "output_type": "execute_result"
    }
   ],
   "source": [
    "if weighting:\n",
    "    classes, class_counts = np.unique(train_dataset.labels, return_counts=True)\n",
    "    class_weights = torch.tensor(\n",
    "        len(train_dataset.labels) / (len(classes) * class_counts), dtype=torch.float32\n",
    "    )\n",
    "else:\n",
    "    class_weights = torch.tensor([1.0, 1.0, 1.0], dtype=torch.float32)\n",
    "class_weights"
   ]
  },
  {
   "cell_type": "code",
   "execution_count": 17,
   "id": "55fcb49f",
   "metadata": {
    "execution": {
     "iopub.execute_input": "2024-12-19T13:07:11.921397Z",
     "iopub.status.busy": "2024-12-19T13:07:11.921169Z",
     "iopub.status.idle": "2024-12-19T13:07:11.924700Z",
     "shell.execute_reply": "2024-12-19T13:07:11.923895Z"
    },
    "papermill": {
     "duration": 0.010001,
     "end_time": "2024-12-19T13:07:11.925845",
     "exception": false,
     "start_time": "2024-12-19T13:07:11.915844",
     "status": "completed"
    },
    "tags": []
   },
   "outputs": [],
   "source": [
    "train_loader = DataLoader(train_dataset, batch_size=config['batch_size'], shuffle=True)\n",
    "# val_loader = DataLoader(val_dataset, batch_size=config['batch_size'], shuffle=False)"
   ]
  },
  {
   "cell_type": "code",
   "execution_count": 18,
   "id": "f1dadc99",
   "metadata": {
    "execution": {
     "iopub.execute_input": "2024-12-19T13:07:11.936187Z",
     "iopub.status.busy": "2024-12-19T13:07:11.935963Z",
     "iopub.status.idle": "2024-12-19T13:07:12.149400Z",
     "shell.execute_reply": "2024-12-19T13:07:12.148415Z"
    },
    "papermill": {
     "duration": 0.220322,
     "end_time": "2024-12-19T13:07:12.151008",
     "exception": false,
     "start_time": "2024-12-19T13:07:11.930686",
     "status": "completed"
    },
    "tags": []
   },
   "outputs": [],
   "source": [
    "model = gtnet(\n",
    "    gcn_true=config['gcn_true'], \n",
    "    buildA_true=config['buildA_true'], \n",
    "    gcn_depth=config['gcn_depth'],\n",
    "    num_nodes=config['num_nodes'], \n",
    "    device=device, \n",
    "    predefined_A=None, \n",
    "    static_feat=None, \n",
    "    dropout=config['dropout'], \n",
    "    subgraph_size=config['subgraph_size'], \n",
    "    node_dim=config['node_dim'], \n",
    "    dilation_exponential=config['dilation_exponential'], \n",
    "    conv_channels=config['conv_channels'], \n",
    "    residual_channels=config['residual_channels'], \n",
    "    skip_channels=config['skip_channels'], \n",
    "    end_channels=config['end_channels'], \n",
    "    seq_length=config['seq_length'], \n",
    "    in_dim=config['in_dim'], \n",
    "    out_dim=config['out_dim'], \n",
    "    layers=config['layers'], \n",
    "    propalpha=config['propalpha'], \n",
    "    tanhalpha=config['tanhalpha'], \n",
    "    layer_norm_affline=True\n",
    ").to(device)"
   ]
  },
  {
   "cell_type": "code",
   "execution_count": 19,
   "id": "49f8e63d",
   "metadata": {
    "execution": {
     "iopub.execute_input": "2024-12-19T13:07:12.162265Z",
     "iopub.status.busy": "2024-12-19T13:07:12.162031Z",
     "iopub.status.idle": "2024-12-19T13:58:54.016427Z",
     "shell.execute_reply": "2024-12-19T13:58:54.015522Z"
    },
    "papermill": {
     "duration": 3101.867056,
     "end_time": "2024-12-19T13:58:54.023442",
     "exception": false,
     "start_time": "2024-12-19T13:07:12.156386",
     "status": "completed"
    },
    "tags": []
   },
   "outputs": [
    {
     "name": "stdout",
     "output_type": "stream",
     "text": [
      "Start training...\n",
      "Epoch 1/15, Loss: 0.8558\n",
      "Epoch 2/15, Loss: 0.7357\n",
      "Epoch 3/15, Loss: 0.6996\n",
      "Epoch 4/15, Loss: 0.6771\n",
      "Epoch 5/15, Loss: 0.6481\n",
      "Epoch 6/15, Loss: 0.6182\n",
      "Epoch 7/15, Loss: 0.5983\n",
      "Epoch 8/15, Loss: 0.5839\n",
      "Epoch 9/15, Loss: 0.5734\n",
      "Epoch 10/15, Loss: 0.5659\n",
      "Epoch 11/15, Loss: 0.5595\n",
      "Epoch 12/15, Loss: 0.5559\n",
      "Epoch 13/15, Loss: 0.5502\n",
      "Epoch 14/15, Loss: 0.5472\n",
      "Epoch 15/15, Loss: 0.5439\n"
     ]
    }
   ],
   "source": [
    "criterion = nn.CrossEntropyLoss(weight=class_weights.to(device))\n",
    "optimizer = torch.optim.Adam(model.parameters(), lr=config['lr'], weight_decay=config['weight_decay'])\n",
    "\n",
    "print('Start training...')\n",
    "for epoch in range(config['epochs']):\n",
    "    model.train()\n",
    "    total_loss = 0\n",
    "    correct = 0\n",
    "    total = 0\n",
    "    for X, Y in train_loader:\n",
    "        X, Y = X.to(device), Y.to(device)\n",
    "        optimizer.zero_grad()\n",
    "        out = model(X) # (batch, out_dim)\n",
    "        loss = criterion(out, Y)\n",
    "        loss.backward()\n",
    "        nn.utils.clip_grad_norm_(model.parameters(), 5)\n",
    "        optimizer.step()\n",
    "        total_loss += loss.item()\n",
    "        pred = out.argmax(dim=1)\n",
    "        correct += pred.eq(Y).sum().item()\n",
    "        total += Y.size(0)\n",
    "    # stats = evaluate(model, val_loader, device)\n",
    "    # print(f\"Epoch {epoch+1}/{config['epochs']}, Loss: {total_loss/len(train_loader):.4f}, Val F1: {np.mean(stats['f1']):.4f}\")\n",
    "    print(f\"Epoch {epoch+1}/{config['epochs']}, Loss: {total_loss/len(train_loader):.4f}\")"
   ]
  },
  {
   "cell_type": "code",
   "execution_count": 20,
   "id": "958bf0ac",
   "metadata": {
    "execution": {
     "iopub.execute_input": "2024-12-19T13:58:54.036094Z",
     "iopub.status.busy": "2024-12-19T13:58:54.035696Z",
     "iopub.status.idle": "2024-12-19T13:58:55.098909Z",
     "shell.execute_reply": "2024-12-19T13:58:55.098190Z"
    },
    "papermill": {
     "duration": 1.070997,
     "end_time": "2024-12-19T13:58:55.100343",
     "exception": false,
     "start_time": "2024-12-19T13:58:54.029346",
     "status": "completed"
    },
    "tags": []
   },
   "outputs": [],
   "source": [
    "test_data = np.loadtxt(config['test_csv'], delimiter=',')"
   ]
  },
  {
   "cell_type": "code",
   "execution_count": 21,
   "id": "064beca7",
   "metadata": {
    "execution": {
     "iopub.execute_input": "2024-12-19T13:58:55.113141Z",
     "iopub.status.busy": "2024-12-19T13:58:55.112912Z",
     "iopub.status.idle": "2024-12-19T13:58:55.218396Z",
     "shell.execute_reply": "2024-12-19T13:58:55.217685Z"
    },
    "papermill": {
     "duration": 0.1132,
     "end_time": "2024-12-19T13:58:55.219716",
     "exception": false,
     "start_time": "2024-12-19T13:58:55.106516",
     "status": "completed"
    },
    "tags": []
   },
   "outputs": [],
   "source": [
    "test_dataset = ClassificationDataset(\n",
    "    test_data, \n",
    "    config['seq_length'], \n",
    "    config['num_nodes'], \n",
    "    config['in_dim'], \n",
    "    label_col, \n",
    ")"
   ]
  },
  {
   "cell_type": "code",
   "execution_count": 22,
   "id": "4dab6e40",
   "metadata": {
    "execution": {
     "iopub.execute_input": "2024-12-19T13:58:55.231870Z",
     "iopub.status.busy": "2024-12-19T13:58:55.231649Z",
     "iopub.status.idle": "2024-12-19T13:58:55.234905Z",
     "shell.execute_reply": "2024-12-19T13:58:55.234265Z"
    },
    "papermill": {
     "duration": 0.010489,
     "end_time": "2024-12-19T13:58:55.236051",
     "exception": false,
     "start_time": "2024-12-19T13:58:55.225562",
     "status": "completed"
    },
    "tags": []
   },
   "outputs": [],
   "source": [
    "test_loader = DataLoader(test_dataset, batch_size=config['batch_size'], shuffle=False)"
   ]
  },
  {
   "cell_type": "code",
   "execution_count": 23,
   "id": "d1e5d3d6",
   "metadata": {
    "execution": {
     "iopub.execute_input": "2024-12-19T13:58:55.248034Z",
     "iopub.status.busy": "2024-12-19T13:58:55.247838Z",
     "iopub.status.idle": "2024-12-19T13:59:28.964677Z",
     "shell.execute_reply": "2024-12-19T13:59:28.963745Z"
    },
    "papermill": {
     "duration": 33.724608,
     "end_time": "2024-12-19T13:59:28.966267",
     "exception": false,
     "start_time": "2024-12-19T13:58:55.241659",
     "status": "completed"
    },
    "tags": []
   },
   "outputs": [],
   "source": [
    "stats = evaluate(model, test_loader, device)"
   ]
  },
  {
   "cell_type": "code",
   "execution_count": 24,
   "id": "8f799a85",
   "metadata": {
    "execution": {
     "iopub.execute_input": "2024-12-19T13:59:28.979549Z",
     "iopub.status.busy": "2024-12-19T13:59:28.979319Z",
     "iopub.status.idle": "2024-12-19T13:59:28.983673Z",
     "shell.execute_reply": "2024-12-19T13:59:28.982950Z"
    },
    "papermill": {
     "duration": 0.011551,
     "end_time": "2024-12-19T13:59:28.984796",
     "exception": false,
     "start_time": "2024-12-19T13:59:28.973245",
     "status": "completed"
    },
    "tags": []
   },
   "outputs": [
    {
     "data": {
      "text/plain": [
       "0.8097250979745947"
      ]
     },
     "execution_count": 24,
     "metadata": {},
     "output_type": "execute_result"
    }
   ],
   "source": [
    "stats['accuracy']"
   ]
  },
  {
   "cell_type": "code",
   "execution_count": 25,
   "id": "61dbb3da",
   "metadata": {
    "execution": {
     "iopub.execute_input": "2024-12-19T13:59:28.997434Z",
     "iopub.status.busy": "2024-12-19T13:59:28.997228Z",
     "iopub.status.idle": "2024-12-19T13:59:29.001346Z",
     "shell.execute_reply": "2024-12-19T13:59:29.000727Z"
    },
    "papermill": {
     "duration": 0.012084,
     "end_time": "2024-12-19T13:59:29.002513",
     "exception": false,
     "start_time": "2024-12-19T13:59:28.990429",
     "status": "completed"
    },
    "tags": []
   },
   "outputs": [],
   "source": [
    "def plt_confusion_matrix(conf_mat):\n",
    "    class_names = ['down', 'stationary', 'up']\n",
    "    \n",
    "    plt.figure(figsize=(4, 4))\n",
    "    sns.heatmap(\n",
    "        conf_mat, annot=True, fmt='.2f', cmap='Greens', \n",
    "        xticklabels=class_names, yticklabels=class_names, \n",
    "        cbar=False, vmin=0, vmax=1\n",
    "    )\n",
    "    \n",
    "    plt.xlabel('Predicted')\n",
    "    plt.ylabel('True')\n",
    "    plt.title('Normalized Confusion Matrix')\n",
    "    plt.savefig('confusion_matrix.pdf', format='pdf', bbox_inches='tight')\n",
    "    plt.show()"
   ]
  },
  {
   "cell_type": "code",
   "execution_count": 26,
   "id": "4c743b1f",
   "metadata": {
    "execution": {
     "iopub.execute_input": "2024-12-19T13:59:29.014396Z",
     "iopub.status.busy": "2024-12-19T13:59:29.014195Z",
     "iopub.status.idle": "2024-12-19T13:59:29.019092Z",
     "shell.execute_reply": "2024-12-19T13:59:29.018502Z"
    },
    "papermill": {
     "duration": 0.012091,
     "end_time": "2024-12-19T13:59:29.020273",
     "exception": false,
     "start_time": "2024-12-19T13:59:29.008182",
     "status": "completed"
    },
    "tags": []
   },
   "outputs": [],
   "source": [
    "def plt_f1_vs_windows(windows, f1_dict):\n",
    "    plt.figure(figsize=(4.5, 4.5))\n",
    "\n",
    "    colors = {\n",
    "        'macro': 'black',\n",
    "        'down': 'red',\n",
    "        'stationary': 'dodgerblue',\n",
    "        'up': 'green'\n",
    "    }\n",
    "\n",
    "    for label, f1s in f1_dict.items():\n",
    "        plt.plot(\n",
    "            windows, f1s, \n",
    "            marker='o', \n",
    "            linestyle='dashed' if label != 'macro' else 'solid', \n",
    "            label=label, \n",
    "            color=colors[label],\n",
    "            linewidth=1.5 if label != 'macro' else 3, \n",
    "            zorder=3 if label == 'macro' else 2\n",
    "        )\n",
    "    \n",
    "    plt.title('F1 Score vs Window Size')\n",
    "    plt.xlabel('Window Size')\n",
    "    plt.xticks(windows)\n",
    "    plt.ylabel('F1 Score')\n",
    "    plt.grid(True)\n",
    "    plt.legend()\n",
    "    plt.savefig('f1_window_size.pdf', format='pdf', bbox_inches='tight')\n",
    "    plt.show()"
   ]
  },
  {
   "cell_type": "code",
   "execution_count": 27,
   "id": "05b7d048",
   "metadata": {
    "execution": {
     "iopub.execute_input": "2024-12-19T13:59:29.032424Z",
     "iopub.status.busy": "2024-12-19T13:59:29.032226Z",
     "iopub.status.idle": "2024-12-19T13:59:29.695971Z",
     "shell.execute_reply": "2024-12-19T13:59:29.694756Z"
    },
    "papermill": {
     "duration": 0.672479,
     "end_time": "2024-12-19T13:59:29.698423",
     "exception": false,
     "start_time": "2024-12-19T13:59:29.025944",
     "status": "completed"
    },
    "tags": []
   },
   "outputs": [
    {
     "data": {
      "image/png": "[encoded data removed]",
      "text/plain": [
       "<Figure size 400x400 with 1 Axes>"
      ]
     },
     "metadata": {},
     "output_type": "display_data"
    }
   ],
   "source": [
    "plt_confusion_matrix(stats['normalized_confusion_matrix'])"
   ]
  },
  {
   "cell_type": "code",
   "execution_count": 28,
   "id": "0c99a891",
   "metadata": {
    "execution": {
     "iopub.execute_input": "2024-12-19T13:59:29.736900Z",
     "iopub.status.busy": "2024-12-19T13:59:29.736176Z",
     "iopub.status.idle": "2024-12-19T13:59:29.744280Z",
     "shell.execute_reply": "2024-12-19T13:59:29.743110Z"
    },
    "papermill": {
     "duration": 0.029199,
     "end_time": "2024-12-19T13:59:29.746255",
     "exception": false,
     "start_time": "2024-12-19T13:59:29.717056",
     "status": "completed"
    },
    "tags": []
   },
   "outputs": [
    {
     "data": {
      "text/plain": [
       "array([0.79554214, 0.84381961, 0.78852651])"
      ]
     },
     "execution_count": 28,
     "metadata": {},
     "output_type": "execute_result"
    }
   ],
   "source": [
    "stats['f1']"
   ]
  },
  {
   "cell_type": "code",
   "execution_count": 29,
   "id": "e8d64088",
   "metadata": {
    "execution": {
     "iopub.execute_input": "2024-12-19T13:59:29.763095Z",
     "iopub.status.busy": "2024-12-19T13:59:29.762893Z",
     "iopub.status.idle": "2024-12-19T13:59:29.767241Z",
     "shell.execute_reply": "2024-12-19T13:59:29.766467Z"
    },
    "papermill": {
     "duration": 0.012237,
     "end_time": "2024-12-19T13:59:29.768359",
     "exception": false,
     "start_time": "2024-12-19T13:59:29.756122",
     "status": "completed"
    },
    "tags": []
   },
   "outputs": [
    {
     "data": {
      "text/plain": [
       "0.8092960857464693"
      ]
     },
     "execution_count": 29,
     "metadata": {},
     "output_type": "execute_result"
    }
   ],
   "source": [
    "np.mean(stats['f1'])"
   ]
  },
  {
   "cell_type": "code",
   "execution_count": 30,
   "id": "fbb545ca",
   "metadata": {
    "execution": {
     "iopub.execute_input": "2024-12-19T13:59:29.781814Z",
     "iopub.status.busy": "2024-12-19T13:59:29.781573Z",
     "iopub.status.idle": "2024-12-19T13:59:29.786560Z",
     "shell.execute_reply": "2024-12-19T13:59:29.785824Z"
    },
    "papermill": {
     "duration": 0.013275,
     "end_time": "2024-12-19T13:59:29.787855",
     "exception": false,
     "start_time": "2024-12-19T13:59:29.774580",
     "status": "completed"
    },
    "tags": []
   },
   "outputs": [
    {
     "data": {
      "text/plain": [
       "{'accuracy': 0.8097250979745947,\n",
       " 'precision': array([0.81781564, 0.85212852, 0.75941561]),\n",
       " 'recall': array([0.77444972, 0.83567118, 0.81995821]),\n",
       " 'f1': array([0.79554214, 0.84381961, 0.78852651]),\n",
       " 'support': array([47976, 48050, 43551]),\n",
       " 'confusion_matrix': array([[37155,  3759,  7062],\n",
       "        [ 3645, 40154,  4251],\n",
       "        [ 4632,  3209, 35710]]),\n",
       " 'normalized_confusion_matrix': array([[0.77444972, 0.07835168, 0.1471986 ],\n",
       "        [0.07585848, 0.83567118, 0.08847034],\n",
       "        [0.10635806, 0.07368373, 0.81995821]])}"
      ]
     },
     "execution_count": 30,
     "metadata": {},
     "output_type": "execute_result"
    }
   ],
   "source": [
    "stats"
   ]
  }
 ],
 "metadata": {
  "kaggle": {
   "accelerator": "nvidiaTeslaT4",
   "dataSources": [
    {
     "datasetId": 6259716,
     "sourceId": 10216735,
     "sourceType": "datasetVersion"
    }
   ],
   "dockerImageVersionId": 30823,
   "isGpuEnabled": true,
   "isInternetEnabled": true,
   "language": "python",
   "sourceType": "notebook"
  },
  "kernelspec": {
   "display_name": "Python 3",
   "language": "python",
   "name": "python3"
  },
  "language_info": {
   "codemirror_mode": {
    "name": "ipython",
    "version": 3
   },
   "file_extension": ".py",
   "mimetype": "text/x-python",
   "name": "python",
   "nbconvert_exporter": "python",
   "pygments_lexer": "ipython3",
   "version": "3.10.12"
  },
  "papermill": {
   "default_parameters": {},
   "duration": 3148.677685,
   "end_time": "2024-12-19T13:59:31.317160",
   "environment_variables": {},
   "exception": null,
   "input_path": "__notebook__.ipynb",
   "output_path": "__notebook__.ipynb",
   "parameters": {},
   "start_time": "2024-12-19T13:07:02.639475",
   "version": "2.6.0"
  }
 },
 "nbformat": 4,
 "nbformat_minor": 5
}
